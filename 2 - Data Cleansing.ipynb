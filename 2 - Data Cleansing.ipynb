{
 "cells": [
  {
   "cell_type": "markdown",
   "id": "f0ec3778",
   "metadata": {},
   "source": [
    "# <u>Data Cleansing<u/>\n",
    "* In this part we will look for duplicated data, missing values and outliers."
   ]
  },
  {
   "cell_type": "code",
   "execution_count": 1,
   "id": "2baffe6a",
   "metadata": {},
   "outputs": [],
   "source": [
    "# ~~~ Imports ~~~\n",
    "import requests\n",
    "import json\n",
    "import bs4\n",
    "from bs4 import BeautifulSoup  \n",
    "import pandas as pd\n",
    "import scipy as sc\n",
    "import numpy as np"
   ]
  },
  {
   "cell_type": "code",
   "execution_count": 2,
   "id": "28229fac",
   "metadata": {},
   "outputs": [],
   "source": [
    "# ~~~ Load csv function ~~~\n",
    "def load_csv(file_name):\n",
    "    df = pd.read_csv(file_name)\n",
    "    return df.drop(columns = 'Unnamed: 0').copy()"
   ]
  },
  {
   "cell_type": "code",
   "execution_count": 3,
   "id": "a3fcb43a",
   "metadata": {},
   "outputs": [],
   "source": [
    "# ~~~ Load data frames from csv files ~~~\n",
    "df = load_csv('Virus Full DataFrame.csv')\n",
    "df_numerical = load_csv('Virus Full DataFrame Numerical.csv')"
   ]
  },
  {
   "cell_type": "markdown",
   "id": "7e84d0dc",
   "metadata": {},
   "source": [
    "### <u>Duplicated Data<u/>"
   ]
  },
  {
   "cell_type": "code",
   "execution_count": 4,
   "id": "64eab9e8",
   "metadata": {},
   "outputs": [
    {
     "name": "stdout",
     "output_type": "stream",
     "text": [
      "Number of duplicated rows:  0\n"
     ]
    },
    {
     "data": {
      "text/html": [
       "<div>\n",
       "<style scoped>\n",
       "    .dataframe tbody tr th:only-of-type {\n",
       "        vertical-align: middle;\n",
       "    }\n",
       "\n",
       "    .dataframe tbody tr th {\n",
       "        vertical-align: top;\n",
       "    }\n",
       "\n",
       "    .dataframe thead th {\n",
       "        text-align: right;\n",
       "    }\n",
       "</style>\n",
       "<table border=\"1\" class=\"dataframe\">\n",
       "  <thead>\n",
       "    <tr style=\"text-align: right;\">\n",
       "      <th></th>\n",
       "      <th>virus name</th>\n",
       "      <th>species</th>\n",
       "      <th>genus</th>\n",
       "      <th>family</th>\n",
       "      <th>Host plasticity No of species</th>\n",
       "      <th>Host plasticity No of species Impact</th>\n",
       "      <th>Host plasticity No of orders</th>\n",
       "      <th>Host plasticity No of orders Impact</th>\n",
       "      <th>Geography of the host</th>\n",
       "      <th>Geography of the host Impact</th>\n",
       "      <th>...</th>\n",
       "      <th>Proportion of known human pathogens in the viral family Impact</th>\n",
       "      <th>Transmission mode of the virus</th>\n",
       "      <th>Transmission mode of the virus Impact</th>\n",
       "      <th>Animal to human transmission</th>\n",
       "      <th>Animal to human transmission Impact</th>\n",
       "      <th>Human to human transmission</th>\n",
       "      <th>Human to human transmission Impact</th>\n",
       "      <th>Duration of virus species infection in humans</th>\n",
       "      <th>Duration of virus species infection in humans Impact</th>\n",
       "      <th>Risk Score</th>\n",
       "    </tr>\n",
       "  </thead>\n",
       "  <tbody>\n",
       "  </tbody>\n",
       "</table>\n",
       "<p>0 rows × 67 columns</p>\n",
       "</div>"
      ],
      "text/plain": [
       "Empty DataFrame\n",
       "Columns: [virus name, species, genus, family, Host plasticity No of species, Host plasticity No of species Impact, Host plasticity No of orders, Host plasticity No of orders Impact, Geography of the host, Geography of the host Impact, Number of primary high risk disease transmission interfaces where the virus has been detected, Number of primary high risk disease transmission interfaces where the virus has been detected Impact, Frequency of interaction between domestic animals and humans in the host ecosystem, Frequency of interaction between domestic animals and humans in the host ecosystem Impact, Intimacy of interaction between domestic animals and humans in the host ecosystem, Intimacy of interaction between domestic animals and humans in the host ecosystem Impact, Frequency of interaction between wild animals and humans in the host ecosystem, Frequency of interaction between wild animals and humans in the host ecosystem Impact, Intimacy of interaction between wild animals and humans in the host ecosystem, Intimacy of interaction between wild animals and humans in the host ecosystem Impact, Genetic relatedness between the host species and humans, Genetic relatedness between the host species and humans Impact, Land use in host ecosystem, Land use in host ecosystem Impact, Livestock density in host ecosystem, Livestock density in host ecosystem Impact, Human population density in host ecosystem, Human population density in host ecosystem Impact, Deforestation in host ecosystem, Deforestation in host ecosystem Impact, Urbanization in host ecosystem, Urbanization in host ecosystem Impact, Agricultural system change in host ecosystem, Agricultural system change in host ecosystem Impact, Genome classification of the virus, Genome classification of the virus Impact, Envelope status of the virus, Envelope status of the virus Impact, Viral genome segmentation, Viral genome segmentation Impact, Virus species infectivity in humans, Virus species infectivity in humans Impact, Virus species infectivity in terrestrial mammals excluding humans, Virus species infectivity in terrestrial mammals excluding humans Impact, Proportion of virus species known to infect humans in the viral family, Proportion of virus species known to infect humans in the viral family Impact, Proportion of virus species known to infect terrestrial mammals excluding humans in the viral family, Proportion of virus species known to infect terrestrial mammals excluding humans in the viral family Impact, Proportion of viruses within a viral family that are known to infect more than 1 host species, Proportion of viruses within a viral family that are known to infect more than 1 host species Impact, Epidemicity of the virus species, Epidemicity of the virus species Impact, Geography of the virus in animals, Geography of the virus in animals Impact, Pandemic virus, Pandemic virus Impact, Proportion of known human pathogens in the viral family, Proportion of known human pathogens in the viral family Impact, Transmission mode of the virus, Transmission mode of the virus Impact, Animal to human transmission, Animal to human transmission Impact, Human to human transmission, Human to human transmission Impact, Duration of virus species infection in humans, Duration of virus species infection in humans Impact, Risk Score]\n",
       "Index: []\n",
       "\n",
       "[0 rows x 67 columns]"
      ]
     },
     "execution_count": 4,
     "metadata": {},
     "output_type": "execute_result"
    }
   ],
   "source": [
    "print('Number of duplicated rows: ', df.duplicated().sum())\n",
    "df[df.duplicated()]"
   ]
  },
  {
   "cell_type": "markdown",
   "id": "b75d167e",
   "metadata": {},
   "source": [
    "* <b>Our data frame doesn't have duplicates.<b/>"
   ]
  },
  {
   "cell_type": "markdown",
   "id": "2440629c",
   "metadata": {},
   "source": [
    "### <u>Missing Values<u/> "
   ]
  },
  {
   "cell_type": "code",
   "execution_count": 5,
   "id": "525d7ce4",
   "metadata": {},
   "outputs": [
    {
     "name": "stdout",
     "output_type": "stream",
     "text": [
      "<class 'pandas.core.frame.DataFrame'>\n",
      "RangeIndex: 887 entries, 0 to 886\n",
      "Data columns (total 67 columns):\n",
      " #   Column                                                                                                       Non-Null Count  Dtype \n",
      "---  ------                                                                                                       --------------  ----- \n",
      " 0   virus name                                                                                                   887 non-null    object\n",
      " 1   species                                                                                                      887 non-null    object\n",
      " 2   genus                                                                                                        887 non-null    object\n",
      " 3   family                                                                                                       887 non-null    object\n",
      " 4   Host plasticity No of species                                                                                887 non-null    object\n",
      " 5   Host plasticity No of species Impact                                                                         887 non-null    object\n",
      " 6   Host plasticity No of orders                                                                                 887 non-null    object\n",
      " 7   Host plasticity No of orders Impact                                                                          887 non-null    object\n",
      " 8   Geography of the host                                                                                        887 non-null    object\n",
      " 9   Geography of the host Impact                                                                                 887 non-null    object\n",
      " 10  Number of primary high risk disease transmission interfaces where the virus has been detected                887 non-null    object\n",
      " 11  Number of primary high risk disease transmission interfaces where the virus has been detected Impact         887 non-null    object\n",
      " 12  Frequency of interaction between domestic animals and humans in the host ecosystem                           887 non-null    object\n",
      " 13  Frequency of interaction between domestic animals and humans in the host ecosystem Impact                    887 non-null    object\n",
      " 14  Intimacy of interaction between domestic animals and humans in the host ecosystem                            887 non-null    object\n",
      " 15  Intimacy of interaction between domestic animals and humans in the host ecosystem Impact                     887 non-null    object\n",
      " 16  Frequency of interaction between wild animals and humans in the host ecosystem                               887 non-null    object\n",
      " 17  Frequency of interaction between wild animals and humans in the host ecosystem Impact                        887 non-null    object\n",
      " 18  Intimacy of interaction between wild animals and humans in the host ecosystem                                887 non-null    object\n",
      " 19  Intimacy of interaction between wild animals and humans in the host ecosystem Impact                         887 non-null    object\n",
      " 20  Genetic relatedness between the host species and humans                                                      887 non-null    object\n",
      " 21  Genetic relatedness between the host species and humans Impact                                               887 non-null    object\n",
      " 22  Land use in host ecosystem                                                                                   887 non-null    object\n",
      " 23  Land use in host ecosystem Impact                                                                            887 non-null    object\n",
      " 24  Livestock density in host ecosystem                                                                          887 non-null    object\n",
      " 25  Livestock density in host ecosystem Impact                                                                   887 non-null    object\n",
      " 26  Human population density in host ecosystem                                                                   887 non-null    object\n",
      " 27  Human population density in host ecosystem Impact                                                            887 non-null    object\n",
      " 28  Deforestation in host ecosystem                                                                              887 non-null    object\n",
      " 29  Deforestation in host ecosystem Impact                                                                       887 non-null    object\n",
      " 30  Urbanization in host ecosystem                                                                               887 non-null    object\n",
      " 31  Urbanization in host ecosystem Impact                                                                        887 non-null    object\n",
      " 32  Agricultural system change in host ecosystem                                                                 887 non-null    object\n",
      " 33  Agricultural system change in host ecosystem Impact                                                          887 non-null    object\n",
      " 34  Genome classification of the virus                                                                           887 non-null    object\n",
      " 35  Genome classification of the virus Impact                                                                    887 non-null    object\n",
      " 36  Envelope status of the virus                                                                                 887 non-null    object\n",
      " 37  Envelope status of the virus Impact                                                                          887 non-null    object\n",
      " 38  Viral genome segmentation                                                                                    887 non-null    object\n",
      " 39  Viral genome segmentation Impact                                                                             887 non-null    object\n",
      " 40  Virus species infectivity in humans                                                                          887 non-null    object\n",
      " 41  Virus species infectivity in humans Impact                                                                   887 non-null    object\n",
      " 42  Virus species infectivity in terrestrial mammals excluding humans                                            887 non-null    object\n",
      " 43  Virus species infectivity in terrestrial mammals excluding humans Impact                                     887 non-null    object\n",
      " 44  Proportion of virus species known to infect humans in the viral family                                       887 non-null    object\n",
      " 45  Proportion of virus species known to infect humans in the viral family Impact                                887 non-null    object\n",
      " 46  Proportion of virus species known to infect terrestrial mammals excluding humans in the viral family         887 non-null    object\n",
      " 47  Proportion of virus species known to infect terrestrial mammals excluding humans in the viral family Impact  887 non-null    object\n",
      " 48  Proportion of viruses within a viral family that are known to infect more than 1 host species                887 non-null    object\n",
      " 49  Proportion of viruses within a viral family that are known to infect more than 1 host species Impact         887 non-null    object\n",
      " 50  Epidemicity of the virus species                                                                             887 non-null    object\n",
      " 51  Epidemicity of the virus species Impact                                                                      887 non-null    object\n",
      " 52  Geography of the virus in animals                                                                            887 non-null    object\n",
      " 53  Geography of the virus in animals Impact                                                                     887 non-null    object\n",
      " 54  Pandemic virus                                                                                               887 non-null    object\n",
      " 55  Pandemic virus Impact                                                                                        887 non-null    object\n",
      " 56  Proportion of known human pathogens in the viral family                                                      887 non-null    object\n",
      " 57  Proportion of known human pathogens in the viral family Impact                                               887 non-null    object\n",
      " 58  Transmission mode of the virus                                                                               887 non-null    object\n",
      " 59  Transmission mode of the virus Impact                                                                        887 non-null    object\n",
      " 60  Animal to human transmission                                                                                 887 non-null    object\n",
      " 61  Animal to human transmission Impact                                                                          887 non-null    object\n",
      " 62  Human to human transmission                                                                                  887 non-null    object\n",
      " 63  Human to human transmission Impact                                                                           887 non-null    object\n",
      " 64  Duration of virus species infection in humans                                                                887 non-null    object\n",
      " 65  Duration of virus species infection in humans Impact                                                         887 non-null    object\n",
      " 66  Risk Score                                                                                                   887 non-null    int64 \n",
      "dtypes: int64(1), object(66)\n",
      "memory usage: 464.4+ KB\n"
     ]
    }
   ],
   "source": [
    "df.info()"
   ]
  },
  {
   "cell_type": "markdown",
   "id": "c244e574",
   "metadata": {},
   "source": [
    "* <b>Our data frame doesn't have missing values.<b/>\n",
    "* <b>Although we don't have missing values, we found out that we have Unassigned values under 'genus' column:<b/>"
   ]
  },
  {
   "cell_type": "code",
   "execution_count": 6,
   "id": "f50fc343",
   "metadata": {},
   "outputs": [
    {
     "data": {
      "text/plain": [
       "count                           887\n",
       "unique                          887\n",
       "top       ADENOVIRUS PREDICT_ADV-26\n",
       "freq                              1\n",
       "Name: virus name, dtype: object"
      ]
     },
     "execution_count": 6,
     "metadata": {},
     "output_type": "execute_result"
    }
   ],
   "source": [
    "df['virus name'].describe()"
   ]
  },
  {
   "cell_type": "code",
   "execution_count": 7,
   "id": "39063970",
   "metadata": {},
   "outputs": [
    {
     "data": {
      "text/plain": [
       "count                                                   887\n",
       "unique                                                  874\n",
       "top       Severe acute respiratory syndrome-related coro...\n",
       "freq                                                      5\n",
       "Name: species, dtype: object"
      ]
     },
     "execution_count": 7,
     "metadata": {},
     "output_type": "execute_result"
    }
   ],
   "source": [
    "df['species'].describe()"
   ]
  },
  {
   "cell_type": "code",
   "execution_count": 8,
   "id": "87ff3bca",
   "metadata": {},
   "outputs": [
    {
     "data": {
      "text/plain": [
       "count            887\n",
       "unique            31\n",
       "top       Unassigned\n",
       "freq             304\n",
       "Name: genus, dtype: object"
      ]
     },
     "execution_count": 8,
     "metadata": {},
     "output_type": "execute_result"
    }
   ],
   "source": [
    "df['genus'].describe()"
   ]
  },
  {
   "cell_type": "code",
   "execution_count": 9,
   "id": "01df5664",
   "metadata": {},
   "outputs": [
    {
     "data": {
      "text/plain": [
       "count              887\n",
       "unique              19\n",
       "top       Astroviridae\n",
       "freq               235\n",
       "Name: family, dtype: object"
      ]
     },
     "execution_count": 9,
     "metadata": {},
     "output_type": "execute_result"
    }
   ],
   "source": [
    "df['family'].describe()"
   ]
  },
  {
   "cell_type": "markdown",
   "id": "e2e6a74f",
   "metadata": {},
   "source": [
    "- <b>As we can see, there are 304 Unassigned values under 'genus' column, we tried to count all Unassigned values for the following columns: 'virus name', 'species', 'genus', 'family'.</b>"
   ]
  },
  {
   "cell_type": "code",
   "execution_count": 10,
   "id": "defad719",
   "metadata": {},
   "outputs": [
    {
     "name": "stdout",
     "output_type": "stream",
     "text": [
      "Virus name Unassigned values: 0\n",
      "Species Unassigned values: 0\n",
      "Genus Unassigned values: 304\n",
      "Family Unassigned values: 0\n"
     ]
    }
   ],
   "source": [
    "virus_name = df['virus name']\n",
    "species = df['species']\n",
    "genus = df['genus']\n",
    "family = df['family']\n",
    "\n",
    "count = 0\n",
    "for v in virus_name:\n",
    "    if v == 'Unassigned':\n",
    "        count +=1;\n",
    "print('Virus name Unassigned values: ' + str(count))\n",
    "\n",
    "count = 0\n",
    "for s in species:\n",
    "    if s == 'Unassigned':\n",
    "        count +=1;\n",
    "print('Species Unassigned values: ' + str(count))        \n",
    "        \n",
    "count = 0        \n",
    "for g in genus:\n",
    "    if g == 'Unassigned':\n",
    "        count +=1;\n",
    "print('Genus Unassigned values: ' + str(count)) \n",
    "\n",
    "count = 0      \n",
    "for f in family:\n",
    "    if f == 'Unassigned':\n",
    "        count +=1;       \n",
    "print('Family Unassigned values: ' + str(count))"
   ]
  },
  {
   "cell_type": "markdown",
   "id": "6a4de0de",
   "metadata": {},
   "source": [
    "- <b>We didn't found any more Unassigned values, as for the 'Species' column's Unassigned values, We decided to leave it as it is.</b> "
   ]
  },
  {
   "cell_type": "markdown",
   "id": "1ce78918",
   "metadata": {},
   "source": [
    "### <u>Outliers<u/> \n",
    "* In this part we will only verify that our numerical dataframe column's values are valid and in range.\n",
    "  In our numerical data frame every risk factor can get values between 1-5, Risk factor impact can get values between 1-3,\n",
    "  And the risk score can get values between 0-155.\n",
    "  We will check if we have any data that goes above or below these limits. "
   ]
  },
  {
   "cell_type": "code",
   "execution_count": 11,
   "id": "dee9e194",
   "metadata": {},
   "outputs": [
    {
     "name": "stdout",
     "output_type": "stream",
     "text": [
      "0 virus name\n",
      "1 species\n",
      "2 genus\n",
      "3 family\n",
      "4 Host plasticity No of species\n",
      "5 Host plasticity No of species Impact\n",
      "6 Host plasticity No of orders\n",
      "7 Host plasticity No of orders Impact\n",
      "8 Geography of the host\n",
      "9 Geography of the host Impact\n",
      "10 Number of primary high risk disease transmission interfaces where the virus has been detected\n",
      "11 Number of primary high risk disease transmission interfaces where the virus has been detected Impact\n",
      "12 Frequency of interaction between domestic animals and humans in the host ecosystem\n",
      "13 Frequency of interaction between domestic animals and humans in the host ecosystem Impact\n",
      "14 Intimacy of interaction between domestic animals and humans in the host ecosystem\n",
      "15 Intimacy of interaction between domestic animals and humans in the host ecosystem Impact\n",
      "16 Frequency of interaction between wild animals and humans in the host ecosystem\n",
      "17 Frequency of interaction between wild animals and humans in the host ecosystem Impact\n",
      "18 Intimacy of interaction between wild animals and humans in the host ecosystem\n",
      "19 Intimacy of interaction between wild animals and humans in the host ecosystem Impact\n",
      "20 Genetic relatedness between the host species and humans\n",
      "21 Genetic relatedness between the host species and humans Impact\n",
      "22 Land use in host ecosystem\n",
      "23 Land use in host ecosystem Impact\n",
      "24 Livestock density in host ecosystem\n",
      "25 Livestock density in host ecosystem Impact\n",
      "26 Human population density in host ecosystem\n",
      "27 Human population density in host ecosystem Impact\n",
      "28 Deforestation in host ecosystem\n",
      "29 Deforestation in host ecosystem Impact\n",
      "30 Urbanization in host ecosystem\n",
      "31 Urbanization in host ecosystem Impact\n",
      "32 Agricultural system change in host ecosystem\n",
      "33 Agricultural system change in host ecosystem Impact\n",
      "34 Genome classification of the virus\n",
      "35 Genome classification of the virus Impact\n",
      "36 Envelope status of the virus\n",
      "37 Envelope status of the virus Impact\n",
      "38 Viral genome segmentation\n",
      "39 Viral genome segmentation Impact\n",
      "40 Virus species infectivity in humans\n",
      "41 Virus species infectivity in humans Impact\n",
      "42 Virus species infectivity in terrestrial mammals excluding humans\n",
      "43 Virus species infectivity in terrestrial mammals excluding humans Impact\n",
      "44 Proportion of virus species known to infect humans in the viral family\n",
      "45 Proportion of virus species known to infect humans in the viral family Impact\n",
      "46 Proportion of virus species known to infect terrestrial mammals excluding humans in the viral family\n",
      "47 Proportion of virus species known to infect terrestrial mammals excluding humans in the viral family Impact\n",
      "48 Proportion of viruses within a viral family that are known to infect more than 1 host species\n",
      "49 Proportion of viruses within a viral family that are known to infect more than 1 host species Impact\n",
      "50 Epidemicity of the virus species\n",
      "51 Epidemicity of the virus species Impact\n",
      "52 Geography of the virus in animals\n",
      "53 Geography of the virus in animals Impact\n",
      "54 Pandemic virus\n",
      "55 Pandemic virus Impact\n",
      "56 Proportion of known human pathogens in the viral family\n",
      "57 Proportion of known human pathogens in the viral family Impact\n",
      "58 Transmission mode of the virus\n",
      "59 Transmission mode of the virus Impact\n",
      "60 Animal to human transmission\n",
      "61 Animal to human transmission Impact\n",
      "62 Human to human transmission\n",
      "63 Human to human transmission Impact\n",
      "64 Duration of virus species infection in humans\n",
      "65 Duration of virus species infection in humans Impact\n",
      "66 Risk Score\n"
     ]
    }
   ],
   "source": [
    "for index, col in enumerate(df_numerical.columns):\n",
    "    print(index, col)"
   ]
  },
  {
   "cell_type": "markdown",
   "id": "6b761c7c",
   "metadata": {},
   "source": [
    "- first we will look on the risk factors and risk factors impact columns unique values:"
   ]
  },
  {
   "cell_type": "code",
   "execution_count": 12,
   "id": "e93514de",
   "metadata": {},
   "outputs": [
    {
     "name": "stdout",
     "output_type": "stream",
     "text": [
      "[3 5 4 1 2]\n",
      "[3]\n",
      "[1 4 3 2]\n",
      "[3]\n",
      "[4 5 3 2]\n",
      "[3]\n",
      "[1 3 2]\n",
      "[3]\n",
      "[5 1 3]\n",
      "[3]\n",
      "[5 1 3]\n",
      "[3]\n",
      "[3 5 1]\n",
      "[3]\n",
      "[5 3 1]\n",
      "[3]\n",
      "[3 5 4]\n",
      "[3]\n",
      "[5 4 3 2 1]\n",
      "[2]\n",
      "[5 1 3]\n",
      "[2]\n",
      "[4 5 3 1 2]\n",
      "[3]\n",
      "[5 1 3]\n",
      "[2]\n",
      "[5 1 3]\n",
      "[2]\n",
      "[5 1 3]\n",
      "[2]\n",
      "[5 3]\n",
      "[2]\n",
      "[3 5]\n",
      "[1]\n",
      "[5 3]\n",
      "[2]\n",
      "[5 1]\n",
      "[3]\n",
      "[5]\n",
      "[3]\n",
      "[3 2 5 4]\n",
      "[3]\n",
      "[5 4 3 2 1]\n",
      "[2]\n",
      "[3 2 4 1]\n",
      "[2]\n",
      "[4 1 5 3]\n",
      "[3]\n",
      "[3 5 4 2 1]\n",
      "[2]\n",
      "[1 5]\n",
      "[3]\n",
      "[2 4 3 1]\n",
      "[3]\n",
      "[1 2 3]\n",
      "[3]\n",
      "[5 1]\n",
      "[3]\n",
      "[5 1]\n",
      "[3]\n",
      "[3 5 1]\n",
      "[2]\n"
     ]
    }
   ],
   "source": [
    "for col_num in range(4, 66):\n",
    "    print(df_numerical[df_numerical.columns[col_num]].unique())"
   ]
  },
  {
   "cell_type": "markdown",
   "id": "2b4f5da0",
   "metadata": {},
   "source": [
    "- No visible exceptional data, next we will check that all values are in range:"
   ]
  },
  {
   "cell_type": "code",
   "execution_count": 13,
   "id": "8214abc9",
   "metadata": {},
   "outputs": [
    {
     "name": "stdout",
     "output_type": "stream",
     "text": [
      "Total Unvalid values:  0\n"
     ]
    }
   ],
   "source": [
    "for i in range(4, 66): # Check for unvalid values in risk factor and risk factor impact columns (risk factor has an enev index number, and risk factor impact has an odd one).  \n",
    "    col_name = df_numerical.columns[i]\n",
    "    if (i%2 == 0):\n",
    "        total_unvalid =+ sum((df_numerical[col_name] < 1) + sum(df_numerical[col_name] > 5))\n",
    "    else:\n",
    "        total_unvalid =+ sum((df_numerical[col_name] < 1) + sum(df_numerical[col_name] > 3))\n",
    "\n",
    "total_unvalid += sum((df_numerical['Risk Score'] < 0) + sum(df_numerical['Risk Score'] > 155)) # Check for outliers in the risk score column.\n",
    "\n",
    "print('Total Unvalid values: ', total_unvalid)"
   ]
  },
  {
   "cell_type": "markdown",
   "id": "8903b9b9",
   "metadata": {},
   "source": [
    "* <b>All values are valid and in range :)<b/> "
   ]
  }
 ],
 "metadata": {
  "kernelspec": {
   "display_name": "Python 3",
   "language": "python",
   "name": "python3"
  },
  "language_info": {
   "codemirror_mode": {
    "name": "ipython",
    "version": 3
   },
   "file_extension": ".py",
   "mimetype": "text/x-python",
   "name": "python",
   "nbconvert_exporter": "python",
   "pygments_lexer": "ipython3",
   "version": "3.8.10"
  }
 },
 "nbformat": 4,
 "nbformat_minor": 5
}
